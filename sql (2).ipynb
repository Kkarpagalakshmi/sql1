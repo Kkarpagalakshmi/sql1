{
 "cells": [
  {
   "cell_type": "code",
   "execution_count": null,
   "id": "415faec5",
   "metadata": {},
   "outputs": [],
   "source": [
    "#1 \n",
    "SELECT customer.cust_name AS \"Customer\",\n",
    "customer.grade AS \"Grade\",orders.ord_no AS \"Order No.\"\n",
    "FROM orders, salesman, customer\n",
    "WHERE orders.customer_id = customer.customer_id\n",
    "AND orders.salesman_id = salesman.salesman_id\n",
    "AND salesman.city IS NOT NULL\n",
    "AND customer.grade IS NOT NULL;"
   ]
  },
  {
   "cell_type": "code",
   "execution_count": null,
   "id": "8173a7ae",
   "metadata": {},
   "outputs": [],
   "source": [
    "#2\n",
    "SELECT ord_no, purch_amt, ord_date, salesman_id \n",
    "FROM orders \n",
    "WHERE salesman_id IN(\n",
    "SELECT salesman_id \n",
    "FROM salesman\n",
    "WHERE commission = (\n",
    "SELECT MAX(commission) \n",
    "FROM salesman));"
   ]
  },
  {
   "cell_type": "code",
   "execution_count": null,
   "id": "875b181d",
   "metadata": {},
   "outputs": [],
   "source": []
  }
 ],
 "metadata": {
  "kernelspec": {
   "display_name": "Python 3 (ipykernel)",
   "language": "python",
   "name": "python3"
  },
  "language_info": {
   "codemirror_mode": {
    "name": "ipython",
    "version": 3
   },
   "file_extension": ".py",
   "mimetype": "text/x-python",
   "name": "python",
   "nbconvert_exporter": "python",
   "pygments_lexer": "ipython3",
   "version": "3.9.7"
  }
 },
 "nbformat": 4,
 "nbformat_minor": 5
}
